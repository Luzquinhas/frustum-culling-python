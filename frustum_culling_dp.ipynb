{
  "nbformat": 4,
  "nbformat_minor": 0,
  "metadata": {
    "colab": {
      "provenance": []
    },
    "kernelspec": {
      "name": "python3",
      "display_name": "Python 3"
    },
    "language_info": {
      "name": "python"
    }
  },
  "cells": [
    {
      "cell_type": "markdown",
      "source": [
        "# Projeto VR de Laparoscopia - VR Care+"
      ],
      "metadata": {
        "id": "2B1b-wvyvpGo"
      }
    },
    {
      "cell_type": "markdown",
      "source": [
        "## VR Care+\n",
        "\n",
        "A VrCare+ é uma plataforma inovadora de treinamento em cirurgia laparoscópica\n",
        "que utiliza tecnologia de realidade virtual (VR) para proporcionar uma experiência de aprendizado imersiva, interativa e eficaz. Nosso objetivo é transformar o treinamento cirúrgico tradicional, tornando-o mais acessível, eficiente e envolvente para os\n",
        "cirurgiões novatos.\n",
        "\n",
        "O principal foco da VrCare+ é aprimorar a formação de cirurgiões através da\n",
        "simulação realista de procedimentos laparoscópicos em um ambiente virtual. Ao\n",
        "romper as barreiras físicas e logísticas associadas aos treinamentos presenciais, nossa plataforma pretende oferecer uma solução prática e flexível que permite aos futuros cirurgiões desenvolverem habilidades motoras críticas de forma contínua e acessível.\n",
        "\n",
        "## Integrantes\n",
        "\n",
        "- Kaiky Alvaro de Miranda RM:98118\n",
        "- Lucas Rodrigues da Silva RM:98344\n",
        "- Pedro Henrique Bicas Couto RM:99534\n",
        "- Júlia Marques Mendes das Neves RM:98680\n",
        "\n",
        "\n",
        "## Frustum Culling\n",
        "\n",
        "Este projeto implementa um algoritmo de Frustum Culling em Python, que é uma técnica usada em gráficos 3D para determinar quais objetos estão visíveis dentro de um frustum (pirâmide de visualização). A implementação utiliza memoização para otimizar as verificações de interseção entre os objetos e o frustum.\n",
        "\n",
        "## Estrutura do Código\n",
        "\n",
        "### Classes\n",
        "\n",
        "- **Plano**: Representa um plano no espaço 3D.\n",
        "- **Frustum**: Representa um frustum que contém 6 planos.\n",
        "- **Objeto3D**: Representa um objeto 3D com uma esfera delimitadora.\n",
        "\n",
        "### Funções\n",
        "\n",
        "- **verificar_interseccao(objeto, frustum)**: Verifica se um objeto está dentro ou intersectando o frustum.\n",
        "- **memo_verificar_interseccao(...)**: Função otimizada usando memoização para verificar interseções.\n",
        "- **reconstruir_frustum(frustum_planes_key)**: Reconstrói os planos do frustum a partir de uma chave.\n",
        "- **frustum_culling(objetos, frustum_planes_key)**: Função principal para determinar quais objetos são visíveis.\n",
        "\n",
        "## Instalação\n",
        "\n",
        "Certifique-se de ter o Python instalado em seu ambiente. Você pode instalar as dependências necessárias usando o seguinte comando:\n",
        "\n",
        "```\n",
        "pip install numpy functool\n",
        "```\n",
        "\n",
        "## Exemplo de uso\n",
        "\n",
        "```\n",
        "# Criar um frustum com planos fixos\n",
        "frustum_planes_key = \"default\"  # Exemplo de chave para o frustum\n",
        "planos = [\n",
        "    Plano((-1, 0, 0), 5),   # Plano direito (x = 5)\n",
        "    Plano((1, 0, 0), 5),    # Plano esquerdo (x = -5)\n",
        "    Plano((0, -1, 0), 5),   # Plano superior (y = 5)\n",
        "    Plano((0, 1, 0), 5),    # Plano inferior (y = -5)\n",
        "    Plano((0, 0, -1), 5),   # Plano próximo (z = 5)\n",
        "    Plano((0, 0, 1), 5)     # Plano distante (z = -5)\n",
        "]\n",
        "frustum = Frustum(planos)\n",
        "\n",
        "# Criar uma lista de objetos 3D\n",
        "objetos = [\n",
        "    Objeto3D(1, [2, 2, 2], 1),\n",
        "    Objeto3D(2, [4.5, 0, 0], 0.6),\n",
        "    Objeto3D(3, [5.5, 0, 0], 1),\n",
        "    Objeto3D(4, [-4.5, -4.5, -4.5], 0.7),\n",
        "    Objeto3D(5, [-6, 6, 6], 1.5),\n",
        "]\n",
        "\n",
        "# Aplicar frustum culling\n",
        "objetos_visiveis = frustum_culling(objetos, frustum_planes_key)\n",
        "\n",
        "# Exibir objetos visíveis\n",
        "print(\"Objetos visíveis:\")\n",
        "for obj in objetos_visiveis:\n",
        "    print(f\"ID: {obj.id}, Posição: {obj.posicao}, Raio: {obj.raio}\")\n",
        "\n",
        "```\n"
      ],
      "metadata": {
        "id": "KiAjO7tMz-NY"
      }
    },
    {
      "cell_type": "markdown",
      "source": [
        "\n",
        "\n",
        "## Diagrama de Fluxo da Solução\n",
        "\n",
        "\n",
        "\n",
        "```plaintext\n",
        "+-----------------------------------------------------------+\n",
        "|                Início do Projeto VR de Laparoscopia       |\n",
        "+-----------------------------------------------------------+\n",
        "                             |\n",
        "                             v\n",
        "+-----------------------------------------------------------+\n",
        "|          Identificação do Desafio Educacional            |\n",
        "|  - Necessidade de flexibilidade e acessibilidade nos      |\n",
        "|    treinamentos médicos.                                   |\n",
        "|  - Integração de cursos virtuais na formação.             |\n",
        "+-----------------------------------------------------------+\n",
        "                             |\n",
        "                             v\n",
        "+-----------------------------------------------------------+\n",
        "|                  Definição de Objetivos                   |\n",
        "|  - Proporcionar experiência educacional dinâmica e        |\n",
        "|    interativa.                                            |\n",
        "|  - Manter a qualidade do ensino e treinamento.            |\n",
        "+-----------------------------------------------------------+\n",
        "                             |\n",
        "                             v\n",
        "+-----------------------------------------------------------+\n",
        "|                Desenvolvimento do Jogo VR                 |\n",
        "|  - Criação de um ambiente imersivo para simulação de      |\n",
        "|    laparoscopia.                                          |\n",
        "|  - Implementação de algoritmos para otimização            |\n",
        "|    (ex: Frustum Culling).      |\n",
        "+-----------------------------------------------------------+\n",
        "                             |\n",
        "                             v\n",
        "+-----------------------------------------------------------+\n",
        "|         Promoção de Materiais de Estudo sobre             |\n",
        "|         Coordenação Motora e Laparoscopia                 |\n",
        "|  - Desenvolvimento de conteúdos educativos e guias        |\n",
        "|    para ajudar os estudantes a aprimorar suas habilidades.|\n",
        "+-----------------------------------------------------------+\n",
        "                             |\n",
        "                             v\n",
        "+-----------------------------------------------------------+\n",
        "|                   Avaliação de Resultados                 |\n",
        "|  - Coleta de feedback dos estudantes.                      |\n",
        "|  - Análise do impacto na formação e desempenho.           |\n",
        "+-----------------------------------------------------------+\n",
        "                             |\n",
        "                             v\n",
        "+-----------------------------------------------------------+\n",
        "|                  Melhoria Contínua                        |\n",
        "|  - Atualizações com base em feedback.                     |\n",
        "|  - Implementação de novas tecnologias e metodologias.     |\n",
        "+-----------------------------------------------------------+\n",
        "                             |\n",
        "                             v\n",
        "+-----------------------------------------------------------+\n",
        "|                         Fim do Projeto                     |\n",
        "+-----------------------------------------------------------+\n"
      ],
      "metadata": {
        "id": "aSfuTmz0vY79"
      }
    },
    {
      "cell_type": "markdown",
      "source": [
        "## 1. Algoritmo de Frustum Culling"
      ],
      "metadata": {
        "id": "4PdIUXdqjIww"
      }
    },
    {
      "cell_type": "code",
      "execution_count": 19,
      "metadata": {
        "id": "4EOYjyCgUKi1"
      },
      "outputs": [],
      "source": [
        "import numpy as np\n",
        "from functools import lru_cache\n",
        "\n",
        "# Classe para representar um plano no espaço 3D\n",
        "class Plano:\n",
        "    def __init__(self, normal, d):\n",
        "        # Normalização da normal do plano\n",
        "        normal = np.array(normal, dtype=np.float32)\n",
        "        norm = np.linalg.norm(normal)\n",
        "        if norm == 0:\n",
        "            raise ValueError(\"A normal do plano não pode ser zero.\")\n",
        "        self.normal = normal / norm  # Normalizada\n",
        "        self.d = d / norm  # Distância do plano normalizada\n",
        "\n",
        "    def distance(self, ponto):\n",
        "        # Calcula a distância de um ponto ao plano\n",
        "        return np.dot(self.normal, ponto) + self.d\n",
        "\n",
        "# Classe para representar um frustum (pirâmide de visualização)\n",
        "class Frustum:\n",
        "    def __init__(self, planos):\n",
        "        # Verifica se o frustum possui exatamente 6 planos\n",
        "        if len(planos) != 6:\n",
        "            raise ValueError(\"Um frustum deve ter exatamente 6 planos.\")\n",
        "        self.planos = planos  # Lista de 6 planos que compõem o frustum\n",
        "\n",
        "# Classe para representar um objeto 3D com uma esfera delimitadora (bounding sphere)\n",
        "class Objeto3D:\n",
        "    def __init__(self, id, posicao, raio):\n",
        "        self.id = id  # Identificador do objeto\n",
        "        self.posicao = np.array(posicao, dtype=np.float32)  # Posição do objeto no espaço 3D\n",
        "        self.raio = raio  # Raio da esfera delimitadora\n",
        "\n",
        "# Função para verificar se um objeto está dentro ou intersectando o frustum\n",
        "def verificar_interseccao(objeto, frustum):\n",
        "    for plano in frustum.planos:\n",
        "        distancia = plano.distance(objeto.posicao)  # Distância do objeto ao plano\n",
        "        if distancia < -objeto.raio:\n",
        "            # Se a distância é menor que -raio, o objeto está completamente fora do frustum\n",
        "            return False\n",
        "    return True  # O objeto está dentro ou intersectando o frustum\n",
        "\n",
        "# Aplicação de memoização para otimizar verificações repetidas\n",
        "@lru_cache(maxsize=None)\n",
        "def memo_verificar_interseccao(objeto_id, pos_x, pos_y, pos_z, raio, frustum_planes_key):\n",
        "    # Reconstrução dos planos do frustum a partir da chave\n",
        "    planos = reconstruir_frustum(frustum_planes_key)\n",
        "    frustum = Frustum(planos)  # Criação de um novo frustum com os planos reconstruídos\n",
        "    objeto = Objeto3D(objeto_id, (pos_x, pos_y, pos_z), raio)  # Criação do objeto\n",
        "    return verificar_interseccao(objeto, frustum)  # Verifica a interseção\n",
        "\n",
        "# Função fictícia para reconstruir o frustum a partir de uma chave\n",
        "def reconstruir_frustum(frustum_planes_key):\n",
        "    # Aqui definimos um frustum fixo com planos corretamente definidos\n",
        "    planos = [\n",
        "        Plano((-1, 0, 0), 5),   # Plano direito (x = 5)\n",
        "        Plano((1, 0, 0), 5),    # Plano esquerdo (x = -5)\n",
        "        Plano((0, -1, 0), 5),   # Plano superior (y = 5)\n",
        "        Plano((0, 1, 0), 5),    # Plano inferior (y = -5)\n",
        "        Plano((0, 0, -1), 5),   # Plano próximo (z = 5)\n",
        "        Plano((0, 0, 1), 5)     # Plano distante (z = -5)\n",
        "    ]\n",
        "    return planos  # Retorna a lista de planos do frustum\n",
        "\n",
        "# Função principal de Frustum Culling\n",
        "def frustum_culling(objetos, frustum_planes_key):\n",
        "    objetos_visiveis = []  # Lista para armazenar objetos visíveis\n",
        "    for obj in objetos:\n",
        "        # Verifica se o objeto está visível utilizando memoização\n",
        "        visivel = memo_verificar_interseccao(\n",
        "            obj.id,\n",
        "            obj.posicao[0],\n",
        "            obj.posicao[1],\n",
        "            obj.posicao[2],\n",
        "            obj.raio,\n",
        "            frustum_planes_key\n",
        "        )\n",
        "        if visivel:\n",
        "            objetos_visiveis.append(obj)  # Adiciona o objeto visível à lista\n",
        "    return objetos_visiveis  # Retorna a lista de objetos visíveis\n"
      ]
    },
    {
      "cell_type": "markdown",
      "source": [
        "## 2. Exemplos de uso"
      ],
      "metadata": {
        "id": "LhLbDiEojNJc"
      }
    },
    {
      "cell_type": "code",
      "source": [
        "if __name__ == \"__main__\":\n",
        "    # Chave fictícia para identificar o frustum\n",
        "    frustum_planes_key = \"frustum_1\"\n",
        "\n",
        "    # Lista de objetos 3D\n",
        "    objetos = [\n",
        "        Objeto3D(1, (0, 0, 0), 1),      # Dentro do frustum\n",
        "        Objeto3D(2, (10, 0, 0), 1),     # Fora do frustum (à direita)\n",
        "        Objeto3D(3, (3, 3, 3), 1),      # Dentro ou intersectando o frustum\n",
        "        Objeto3D(4, (-6, 0, 0), 1),     # Fora do frustum (à esquerda), mas com raio=1, pode estar tocando\n",
        "        Objeto3D(5, (0, 0, -6), 1),     # Fora do frustum (atrás), mas com raio=1, pode estar tocando\n",
        "        Objeto3D(6, (0, 0, 4), 1)       # Dentro do frustum\n",
        "    ]\n",
        "\n",
        "    # Executar Frustum Culling\n",
        "    visiveis = frustum_culling(objetos, frustum_planes_key)\n",
        "\n",
        "    # Exibir resultados\n",
        "    print(\"Objetos visíveis:\")\n",
        "    for obj in visiveis:\n",
        "        print(f\"ID: {obj.id}, Posição: {obj.posicao}, Raio: {obj.raio}\")"
      ],
      "metadata": {
        "colab": {
          "base_uri": "https://localhost:8080/"
        },
        "id": "b555mhhVeZvB",
        "outputId": "3ac03ab3-e6dc-4708-88e6-0ea455c507a9"
      },
      "execution_count": 20,
      "outputs": [
        {
          "output_type": "stream",
          "name": "stdout",
          "text": [
            "Objetos visíveis:\n",
            "ID: 1, Posição: [0. 0. 0.], Raio: 1\n",
            "ID: 3, Posição: [3. 3. 3.], Raio: 1\n",
            "ID: 4, Posição: [-6.  0.  0.], Raio: 1\n",
            "ID: 5, Posição: [ 0.  0. -6.], Raio: 1\n",
            "ID: 6, Posição: [0. 0. 4.], Raio: 1\n"
          ]
        }
      ]
    },
    {
      "cell_type": "code",
      "source": [
        "# Novo Exemplo de Uso\n",
        "if __name__ == \"__main__\":\n",
        "    # Chave fictícia para identificar o frustum\n",
        "    frustum_planes_key = \"frustum_2\"\n",
        "\n",
        "    # Lista de objetos 3D para o novo exemplo\n",
        "    objetos = [\n",
        "        Objeto3D(1, (2, 2, 2), 1),      # Dentro do frustum\n",
        "        Objeto3D(2, (4.5, 0, 0), 0.6), # Próximo do plano direito, dentro\n",
        "        Objeto3D(3, (5.5, 0, 0), 1),    # Parcialmente dentro (tocando o plano direito)\n",
        "        Objeto3D(4, (-4.5, -4.5, -4.5), 0.7), # Próximo do limite inferior-esquerdo-distante, dentro\n",
        "        Objeto3D(5, (-6.5, 6.5, 6.5), 0.9),   # Fora do frustum\n",
        "        Objeto3D(6, (0, 0, 6.5), 1),      # Fora do frustum (acima do plano próximo)\n",
        "        Objeto3D(7, (0, -6.5, 0), 1),     # Fora do frustum (abaixo do plano inferior)\n",
        "        Objeto3D(8, (0, 0, 0), 3),      # Dentro do frustum (raio grande)\n",
        "        Objeto3D(9, (3, -3, 3), 2),     # Intersectando múltiplos planos\n",
        "        Objeto3D(10, (-5, 0, 0), 0.5)   # Na fronteira do plano esquerdo\n",
        "    ]\n",
        "\n",
        "    # Executar Frustum Culling\n",
        "    visiveis = frustum_culling(objetos, frustum_planes_key)\n",
        "\n",
        "    # Exibir resultados\n",
        "    print(\"Objetos visíveis:\")\n",
        "    for obj in visiveis:\n",
        "        print(f\"ID: {obj.id}, Posição: {obj.posicao}, Raio: {obj.raio}\")"
      ],
      "metadata": {
        "colab": {
          "base_uri": "https://localhost:8080/"
        },
        "id": "nZnvlKtxiDow",
        "outputId": "7b87edcd-bdfd-4dec-be12-5e0634de62ef"
      },
      "execution_count": 21,
      "outputs": [
        {
          "output_type": "stream",
          "name": "stdout",
          "text": [
            "Objetos visíveis:\n",
            "ID: 1, Posição: [2. 2. 2.], Raio: 1\n",
            "ID: 2, Posição: [4.5 0.  0. ], Raio: 0.6\n",
            "ID: 3, Posição: [5.5 0.  0. ], Raio: 1\n",
            "ID: 4, Posição: [-4.5 -4.5 -4.5], Raio: 0.7\n",
            "ID: 8, Posição: [0. 0. 0.], Raio: 3\n",
            "ID: 9, Posição: [ 3. -3.  3.], Raio: 2\n",
            "ID: 10, Posição: [-5.  0.  0.], Raio: 0.5\n"
          ]
        }
      ]
    },
    {
      "cell_type": "code",
      "source": [
        "# Novo Exemplo de Uso\n",
        "if __name__ == \"__main__\":\n",
        "    # Chave fictícia para identificar o frustum\n",
        "    frustum_planes_key = \"frustum_2\"\n",
        "\n",
        "    # Lista de objetos 3D para o novo exemplo\n",
        "    objetos = [\n",
        "        Objeto3D(1, (2, 2, 2), 1),      # Dentro do frustum\n",
        "        Objeto3D(2, (4.5, 0, 0), 0.6), # Próximo do plano direito, dentro\n",
        "        Objeto3D(3, (5.5, 0, 0), 1),    # Parcialmente dentro (tocando o plano direito)\n",
        "        Objeto3D(4, (-4.5, -4.5, -4.5), 0.7), # Próximo do limite inferior-esquerdo-distante, dentro\n",
        "        Objeto3D(5, (-8, 8, 8), 1.5),   # Fora do frustum\n",
        "        Objeto3D(6, (0, 0, 8), 1),      # Fora do frustum (acima do plano próximo)\n",
        "        Objeto3D(7, (0, -7, 0), 1),     # Fora do frustum (abaixo do plano inferior)\n",
        "        Objeto3D(8, (0, 0, 0), 3),      # Dentro do frustum (raio grande)\n",
        "        Objeto3D(9, (3, -3, 3), 2),     # Intersectando múltiplos planos\n",
        "        Objeto3D(10, (-5, 0, 0), 0.5)   # Na fronteira do plano esquerdo\n",
        "    ]\n",
        "\n",
        "    # Executar Frustum Culling\n",
        "    visiveis = frustum_culling(objetos, frustum_planes_key)\n",
        "\n",
        "    # Exibir resultados\n",
        "    print(\"Objetos visíveis:\")\n",
        "    for obj in visiveis:\n",
        "        print(f\"ID: {obj.id}, Posição: {obj.posicao}, Raio: {obj.raio}\")"
      ],
      "metadata": {
        "colab": {
          "base_uri": "https://localhost:8080/"
        },
        "id": "Z6LDyKJtjAac",
        "outputId": "4af47bb9-07dd-4f48-b0bc-93de95de0774"
      },
      "execution_count": 22,
      "outputs": [
        {
          "output_type": "stream",
          "name": "stdout",
          "text": [
            "Objetos visíveis:\n",
            "ID: 1, Posição: [2. 2. 2.], Raio: 1\n",
            "ID: 2, Posição: [4.5 0.  0. ], Raio: 0.6\n",
            "ID: 3, Posição: [5.5 0.  0. ], Raio: 1\n",
            "ID: 4, Posição: [-4.5 -4.5 -4.5], Raio: 0.7\n",
            "ID: 8, Posição: [0. 0. 0.], Raio: 3\n",
            "ID: 9, Posição: [ 3. -3.  3.], Raio: 2\n",
            "ID: 10, Posição: [-5.  0.  0.], Raio: 0.5\n"
          ]
        }
      ]
    },
    {
      "cell_type": "markdown",
      "source": [
        "## Conclusão\n",
        "\n",
        "O projeto **Frustum Culling** desenvolvido implementa de maneira eficaz o algoritmo de culling de frustum em Python, uma técnica fundamental em gráficos 3D para otimizar a renderização ao determinar quais objetos estão visíveis dentro da pirâmide de visualização (frustum). Através da utilização de memoização, conseguimos aprimorar significativamente a eficiência das verificações de interseção entre os objetos e o frustum, reduzindo o tempo de processamento em cenários com múltiplas chamadas repetidas.\n",
        "\n",
        "## Principais Contribuições\n",
        "\n",
        "- **Estrutura Modular**: A organização do código em classes bem definidas (`Plano`, `Frustum`, `Objeto3D`) e funções específicas facilita a manutenção e a escalabilidade do projeto.\n",
        "- **Otimização com Memoização**: A aplicação do decorador `@lru_cache` para a função `memo_verificar_interseccao` demonstra um ganho de desempenho ao evitar cálculos redundantes, especialmente em cenas complexas com inúmeros objetos.\n",
        "- **Flexibilidade na Reconstrução do Frustum**: A função `reconstruir_frustum` permite a reconstrução dinâmica dos planos do frustum a partir de uma chave, possibilitando a adaptação do algoritmo para diferentes configurações de visualização.\n",
        "\n",
        "## Resultados Obtidos\n",
        "\n",
        "Os exemplos de uso apresentados evidenciam a eficácia do algoritmo em diferentes cenários, identificando corretamente os objetos visíveis conforme suas posições e raios em relação ao frustum definido. A capacidade de detectar objetos parcialmente dentro ou tocando os planos do frustum demonstra a robustez da implementação.\n",
        "\n",
        "### Output dos Exemplos:\n",
        "- **Output 1**: Identificação de objetos completamente dentro ou intersectando o frustum.\n",
        "- **Output 2 e 3**: Demonstração da precisão em cenários com objetos próximos às bordas do frustum, incluindo objetos parcialmente visíveis.\n",
        "\n",
        "## Referências\n",
        "\n",
        "- [Frustum Culling - PucRio](https://www.maxwell.vrac.puc-rio.br/31453/31453_4.PDF)\n",
        "- [Functools — Funções de alta ordem e operações sobre funções](https://docs.python.org/3/library/functools.html)"
      ],
      "metadata": {
        "id": "JzPqwLR3aHau"
      }
    }
  ]
}